{
 "cells": [
  {
   "cell_type": "code",
   "execution_count": 1,
   "metadata": {
    "collapsed": true
   },
   "outputs": [],
   "source": [
    "import pandas as pd\n",
    "import numpy as np\n",
    "\n",
    "import matplotlib.pyplot as plt\n",
    "import datetime as dt\n",
    "\n",
    "%matplotlib inline  \n",
    "plt.style.use('ggplot')"
   ]
  },
  {
   "cell_type": "code",
   "execution_count": 2,
   "metadata": {
    "collapsed": true
   },
   "outputs": [],
   "source": [
    "train_sample = pd.read_csv('train_sample.csv')\n",
    "train_sample[\"click_time\"] = pd.to_datetime(train_sample.click_time)\n",
    "train_sample[\"date\"] = pd.to_datetime(train_sample['click_time']).dt.date\n",
    "train_sample[\"month\"] = pd.to_datetime(train_sample['date']).dt.month\n",
    "train_sample[\"day\"] = pd.to_datetime(train_sample['date']).dt.day\n",
    "train_sample[\"year\"] = pd.to_datetime(train_sample['date']).dt.year\n",
    "\n",
    "train_sample[\"time\"] = pd.to_datetime(train_sample['click_time']).dt.time\n",
    "train_sample[['hour','minute','second']] = pd.DataFrame([(x.hour, x.minute, x.second) for x in train_sample['time']])"
   ]
  },
  {
   "cell_type": "code",
   "execution_count": 3,
   "metadata": {
    "collapsed": true
   },
   "outputs": [],
   "source": [
    "train_sample.attributed_time = pd.to_datetime(train_sample.attributed_time)"
   ]
  },
  {
   "cell_type": "code",
   "execution_count": 4,
   "metadata": {},
   "outputs": [
    {
     "data": {
      "text/html": [
       "<div>\n",
       "<style>\n",
       "    .dataframe thead tr:only-child th {\n",
       "        text-align: right;\n",
       "    }\n",
       "\n",
       "    .dataframe thead th {\n",
       "        text-align: left;\n",
       "    }\n",
       "\n",
       "    .dataframe tbody tr th {\n",
       "        vertical-align: top;\n",
       "    }\n",
       "</style>\n",
       "<table border=\"1\" class=\"dataframe\">\n",
       "  <thead>\n",
       "    <tr style=\"text-align: right;\">\n",
       "      <th></th>\n",
       "      <th>ip</th>\n",
       "      <th>app</th>\n",
       "      <th>device</th>\n",
       "      <th>os</th>\n",
       "      <th>channel</th>\n",
       "      <th>click_time</th>\n",
       "      <th>attributed_time</th>\n",
       "      <th>is_attributed</th>\n",
       "      <th>date</th>\n",
       "      <th>month</th>\n",
       "      <th>day</th>\n",
       "      <th>year</th>\n",
       "      <th>time</th>\n",
       "      <th>hour</th>\n",
       "      <th>minute</th>\n",
       "      <th>second</th>\n",
       "    </tr>\n",
       "  </thead>\n",
       "  <tbody>\n",
       "    <tr>\n",
       "      <th>0</th>\n",
       "      <td>87540</td>\n",
       "      <td>12</td>\n",
       "      <td>1</td>\n",
       "      <td>13</td>\n",
       "      <td>497</td>\n",
       "      <td>2017-11-07 09:30:38</td>\n",
       "      <td>NaT</td>\n",
       "      <td>0</td>\n",
       "      <td>2017-11-07</td>\n",
       "      <td>11</td>\n",
       "      <td>7</td>\n",
       "      <td>2017</td>\n",
       "      <td>09:30:38</td>\n",
       "      <td>9</td>\n",
       "      <td>30</td>\n",
       "      <td>38</td>\n",
       "    </tr>\n",
       "    <tr>\n",
       "      <th>1</th>\n",
       "      <td>105560</td>\n",
       "      <td>25</td>\n",
       "      <td>1</td>\n",
       "      <td>17</td>\n",
       "      <td>259</td>\n",
       "      <td>2017-11-07 13:40:27</td>\n",
       "      <td>NaT</td>\n",
       "      <td>0</td>\n",
       "      <td>2017-11-07</td>\n",
       "      <td>11</td>\n",
       "      <td>7</td>\n",
       "      <td>2017</td>\n",
       "      <td>13:40:27</td>\n",
       "      <td>13</td>\n",
       "      <td>40</td>\n",
       "      <td>27</td>\n",
       "    </tr>\n",
       "    <tr>\n",
       "      <th>2</th>\n",
       "      <td>101424</td>\n",
       "      <td>12</td>\n",
       "      <td>1</td>\n",
       "      <td>19</td>\n",
       "      <td>212</td>\n",
       "      <td>2017-11-07 18:05:24</td>\n",
       "      <td>NaT</td>\n",
       "      <td>0</td>\n",
       "      <td>2017-11-07</td>\n",
       "      <td>11</td>\n",
       "      <td>7</td>\n",
       "      <td>2017</td>\n",
       "      <td>18:05:24</td>\n",
       "      <td>18</td>\n",
       "      <td>5</td>\n",
       "      <td>24</td>\n",
       "    </tr>\n",
       "    <tr>\n",
       "      <th>3</th>\n",
       "      <td>94584</td>\n",
       "      <td>13</td>\n",
       "      <td>1</td>\n",
       "      <td>13</td>\n",
       "      <td>477</td>\n",
       "      <td>2017-11-07 04:58:08</td>\n",
       "      <td>NaT</td>\n",
       "      <td>0</td>\n",
       "      <td>2017-11-07</td>\n",
       "      <td>11</td>\n",
       "      <td>7</td>\n",
       "      <td>2017</td>\n",
       "      <td>04:58:08</td>\n",
       "      <td>4</td>\n",
       "      <td>58</td>\n",
       "      <td>8</td>\n",
       "    </tr>\n",
       "    <tr>\n",
       "      <th>4</th>\n",
       "      <td>68413</td>\n",
       "      <td>12</td>\n",
       "      <td>1</td>\n",
       "      <td>1</td>\n",
       "      <td>178</td>\n",
       "      <td>2017-11-09 09:00:09</td>\n",
       "      <td>NaT</td>\n",
       "      <td>0</td>\n",
       "      <td>2017-11-09</td>\n",
       "      <td>11</td>\n",
       "      <td>9</td>\n",
       "      <td>2017</td>\n",
       "      <td>09:00:09</td>\n",
       "      <td>9</td>\n",
       "      <td>0</td>\n",
       "      <td>9</td>\n",
       "    </tr>\n",
       "  </tbody>\n",
       "</table>\n",
       "</div>"
      ],
      "text/plain": [
       "       ip  app  device  os  channel          click_time attributed_time  \\\n",
       "0   87540   12       1  13      497 2017-11-07 09:30:38             NaT   \n",
       "1  105560   25       1  17      259 2017-11-07 13:40:27             NaT   \n",
       "2  101424   12       1  19      212 2017-11-07 18:05:24             NaT   \n",
       "3   94584   13       1  13      477 2017-11-07 04:58:08             NaT   \n",
       "4   68413   12       1   1      178 2017-11-09 09:00:09             NaT   \n",
       "\n",
       "   is_attributed        date  month  day  year      time  hour  minute  second  \n",
       "0              0  2017-11-07     11    7  2017  09:30:38     9      30      38  \n",
       "1              0  2017-11-07     11    7  2017  13:40:27    13      40      27  \n",
       "2              0  2017-11-07     11    7  2017  18:05:24    18       5      24  \n",
       "3              0  2017-11-07     11    7  2017  04:58:08     4      58       8  \n",
       "4              0  2017-11-09     11    9  2017  09:00:09     9       0       9  "
      ]
     },
     "execution_count": 4,
     "metadata": {},
     "output_type": "execute_result"
    }
   ],
   "source": [
    "train_sample.head()"
   ]
  },
  {
   "cell_type": "code",
   "execution_count": 27,
   "metadata": {},
   "outputs": [
    {
     "data": {
      "image/png": "[encoded data removed]",
      "text/plain": [
       "<matplotlib.figure.Figure at 0xe3d0710>"
      ]
     },
     "metadata": {},
     "output_type": "display_data"
    }
   ],
   "source": [
    "plt.figure(figsize=(15,5))\n",
    "plt.subplot(121)\n",
    "plt.hist(train_sample[train_sample.is_attributed == 1].month)\n",
    "plt.title(\"Monthly Distibution\")\n",
    "plt.subplot(122)\n",
    "plt.hist(train_sample[train_sample.is_attributed == 1].day)\n",
    "plt.title(\"Hourly Distribution\")\n",
    "plt.show()"
   ]
  },
  {
   "cell_type": "code",
   "execution_count": 26,
   "metadata": {},
   "outputs": [
    {
     "data": {
      "image/png": "[encoded data removed]",
      "text/plain": [
       "<matplotlib.figure.Figure at 0xe2a1550>"
      ]
     },
     "metadata": {},
     "output_type": "display_data"
    }
   ],
   "source": [
    "plt.figure(figsize=(10,6))\n",
    "plt.subplot(1, 2, 1)\n",
    "plt.hist(train_sample.hour)\n",
    "plt.title(\"Complete\")\n",
    "plt.subplot(1, 2, 2)\n",
    "plt.hist(train_sample[train_sample.is_attributed == 1].hour)\n",
    "plt.title(\"Target\")\n",
    "plt.show()"
   ]
  },
  {
   "cell_type": "code",
   "execution_count": 75,
   "metadata": {},
   "outputs": [
    {
     "data": {
      "text/html": [
       "<div>\n",
       "<style>\n",
       "    .dataframe thead tr:only-child th {\n",
       "        text-align: right;\n",
       "    }\n",
       "\n",
       "    .dataframe thead th {\n",
       "        text-align: left;\n",
       "    }\n",
       "\n",
       "    .dataframe tbody tr th {\n",
       "        vertical-align: top;\n",
       "    }\n",
       "</style>\n",
       "<table border=\"1\" class=\"dataframe\">\n",
       "  <thead>\n",
       "    <tr style=\"text-align: right;\">\n",
       "      <th></th>\n",
       "      <th>ip</th>\n",
       "      <th>app</th>\n",
       "      <th>device</th>\n",
       "      <th>os</th>\n",
       "      <th>channel</th>\n",
       "      <th>click_time</th>\n",
       "      <th>attributed_time</th>\n",
       "      <th>is_attributed</th>\n",
       "      <th>date</th>\n",
       "      <th>month</th>\n",
       "      <th>day</th>\n",
       "      <th>year</th>\n",
       "      <th>time</th>\n",
       "      <th>hour</th>\n",
       "      <th>minute</th>\n",
       "      <th>second</th>\n",
       "    </tr>\n",
       "  </thead>\n",
       "  <tbody>\n",
       "    <tr>\n",
       "      <th>0</th>\n",
       "      <td>87540</td>\n",
       "      <td>12</td>\n",
       "      <td>1</td>\n",
       "      <td>13</td>\n",
       "      <td>497</td>\n",
       "      <td>2017-11-07 09:30:38</td>\n",
       "      <td>NaN</td>\n",
       "      <td>0</td>\n",
       "      <td>2017-11-07</td>\n",
       "      <td>11</td>\n",
       "      <td>7</td>\n",
       "      <td>2017</td>\n",
       "      <td>09:30:38</td>\n",
       "      <td>9</td>\n",
       "      <td>30</td>\n",
       "      <td>38</td>\n",
       "    </tr>\n",
       "    <tr>\n",
       "      <th>1</th>\n",
       "      <td>105560</td>\n",
       "      <td>25</td>\n",
       "      <td>1</td>\n",
       "      <td>17</td>\n",
       "      <td>259</td>\n",
       "      <td>2017-11-07 13:40:27</td>\n",
       "      <td>NaN</td>\n",
       "      <td>0</td>\n",
       "      <td>2017-11-07</td>\n",
       "      <td>11</td>\n",
       "      <td>7</td>\n",
       "      <td>2017</td>\n",
       "      <td>13:40:27</td>\n",
       "      <td>13</td>\n",
       "      <td>40</td>\n",
       "      <td>27</td>\n",
       "    </tr>\n",
       "    <tr>\n",
       "      <th>2</th>\n",
       "      <td>101424</td>\n",
       "      <td>12</td>\n",
       "      <td>1</td>\n",
       "      <td>19</td>\n",
       "      <td>212</td>\n",
       "      <td>2017-11-07 18:05:24</td>\n",
       "      <td>NaN</td>\n",
       "      <td>0</td>\n",
       "      <td>2017-11-07</td>\n",
       "      <td>11</td>\n",
       "      <td>7</td>\n",
       "      <td>2017</td>\n",
       "      <td>18:05:24</td>\n",
       "      <td>18</td>\n",
       "      <td>5</td>\n",
       "      <td>24</td>\n",
       "    </tr>\n",
       "    <tr>\n",
       "      <th>3</th>\n",
       "      <td>94584</td>\n",
       "      <td>13</td>\n",
       "      <td>1</td>\n",
       "      <td>13</td>\n",
       "      <td>477</td>\n",
       "      <td>2017-11-07 04:58:08</td>\n",
       "      <td>NaN</td>\n",
       "      <td>0</td>\n",
       "      <td>2017-11-07</td>\n",
       "      <td>11</td>\n",
       "      <td>7</td>\n",
       "      <td>2017</td>\n",
       "      <td>04:58:08</td>\n",
       "      <td>4</td>\n",
       "      <td>58</td>\n",
       "      <td>8</td>\n",
       "    </tr>\n",
       "    <tr>\n",
       "      <th>4</th>\n",
       "      <td>68413</td>\n",
       "      <td>12</td>\n",
       "      <td>1</td>\n",
       "      <td>1</td>\n",
       "      <td>178</td>\n",
       "      <td>2017-11-09 09:00:09</td>\n",
       "      <td>NaN</td>\n",
       "      <td>0</td>\n",
       "      <td>2017-11-09</td>\n",
       "      <td>11</td>\n",
       "      <td>9</td>\n",
       "      <td>2017</td>\n",
       "      <td>09:00:09</td>\n",
       "      <td>9</td>\n",
       "      <td>0</td>\n",
       "      <td>9</td>\n",
       "    </tr>\n",
       "  </tbody>\n",
       "</table>\n",
       "</div>"
      ],
      "text/plain": [
       "       ip  app  device  os  channel           click_time attributed_time  \\\n",
       "0   87540   12       1  13      497  2017-11-07 09:30:38             NaN   \n",
       "1  105560   25       1  17      259  2017-11-07 13:40:27             NaN   \n",
       "2  101424   12       1  19      212  2017-11-07 18:05:24             NaN   \n",
       "3   94584   13       1  13      477  2017-11-07 04:58:08             NaN   \n",
       "4   68413   12       1   1      178  2017-11-09 09:00:09             NaN   \n",
       "\n",
       "   is_attributed        date  month  day  year      time  hour  minute  second  \n",
       "0              0  2017-11-07     11    7  2017  09:30:38     9      30      38  \n",
       "1              0  2017-11-07     11    7  2017  13:40:27    13      40      27  \n",
       "2              0  2017-11-07     11    7  2017  18:05:24    18       5      24  \n",
       "3              0  2017-11-07     11    7  2017  04:58:08     4      58       8  \n",
       "4              0  2017-11-09     11    9  2017  09:00:09     9       0       9  "
      ]
     },
     "execution_count": 75,
     "metadata": {},
     "output_type": "execute_result"
    }
   ],
   "source": [
    "train_sample.head()"
   ]
  },
  {
   "cell_type": "code",
   "execution_count": 5,
   "metadata": {},
   "outputs": [
    {
     "name": "stdout",
     "output_type": "stream",
     "text": [
      "Number of unique app: 161\n",
      "Number of unique device: 100\n",
      "Number of unique os: 130\n",
      "Number of unique channel: 161\n"
     ]
    }
   ],
   "source": [
    "for i in [\"app\",\"device\",\"os\",\"channel\"]:\n",
    "    \n",
    "    print(\"Number of unique {}: {}\".format(i, len(train_sample[i].unique())))"
   ]
  },
  {
   "cell_type": "code",
   "execution_count": 29,
   "metadata": {},
   "outputs": [
    {
     "data": {
      "image/png": "[encoded data removed]",
      "text/plain": [
       "<matplotlib.figure.Figure at 0xdf78a58>"
      ]
     },
     "metadata": {},
     "output_type": "display_data"
    }
   ],
   "source": [
    "n = 4\n",
    "a = plt.subplots(4, 1,figsize=(12,15))[1].ravel()\n",
    "\n",
    "for ix, i in enumerate([\"app\",\"device\",\"os\",\"channel\"]):\n",
    "\n",
    "    a[ix].hist(train_sample[train_sample.is_attributed == 1][i])\n",
    "    a[ix].set_title(\"{} distribution\".format(i))\n",
    "    \n",
    "    \n",
    "plt.show()"
   ]
  },
  {
   "cell_type": "code",
   "execution_count": 6,
   "metadata": {},
   "outputs": [
    {
     "name": "stderr",
     "output_type": "stream",
     "text": [
      "C:\\Users\\mt16558\\AppData\\Local\\Continuum\\anaconda3\\lib\\site-packages\\ipykernel_launcher.py:2: SettingWithCopyWarning: \n",
      "A value is trying to be set on a copy of a slice from a DataFrame.\n",
      "Try using .loc[row_indexer,col_indexer] = value instead\n",
      "\n",
      "See the caveats in the documentation: http://pandas.pydata.org/pandas-docs/stable/indexing.html#indexing-view-versus-copy\n",
      "  \n"
     ]
    }
   ],
   "source": [
    "train_sample_target = train_sample[train_sample.is_attributed == 1]\n",
    "train_sample_target[\"time_diff\"] = (train_sample_target.attributed_time - train_sample_target.click_time).dt.total_seconds()"
   ]
  },
  {
   "cell_type": "code",
   "execution_count": 7,
   "metadata": {},
   "outputs": [
    {
     "data": {
      "text/html": [
       "<div>\n",
       "<style>\n",
       "    .dataframe thead tr:only-child th {\n",
       "        text-align: right;\n",
       "    }\n",
       "\n",
       "    .dataframe thead th {\n",
       "        text-align: left;\n",
       "    }\n",
       "\n",
       "    .dataframe tbody tr th {\n",
       "        vertical-align: top;\n",
       "    }\n",
       "</style>\n",
       "<table border=\"1\" class=\"dataframe\">\n",
       "  <thead>\n",
       "    <tr style=\"text-align: right;\">\n",
       "      <th></th>\n",
       "      <th>ip</th>\n",
       "      <th>app</th>\n",
       "      <th>device</th>\n",
       "      <th>os</th>\n",
       "      <th>channel</th>\n",
       "      <th>click_time</th>\n",
       "      <th>attributed_time</th>\n",
       "      <th>is_attributed</th>\n",
       "      <th>date</th>\n",
       "      <th>month</th>\n",
       "      <th>day</th>\n",
       "      <th>year</th>\n",
       "      <th>time</th>\n",
       "      <th>hour</th>\n",
       "      <th>minute</th>\n",
       "      <th>second</th>\n",
       "      <th>time_diff</th>\n",
       "    </tr>\n",
       "  </thead>\n",
       "  <tbody>\n",
       "    <tr>\n",
       "      <th>284</th>\n",
       "      <td>224120</td>\n",
       "      <td>19</td>\n",
       "      <td>0</td>\n",
       "      <td>29</td>\n",
       "      <td>213</td>\n",
       "      <td>2017-11-08 02:22:13</td>\n",
       "      <td>2017-11-08 02:22:38</td>\n",
       "      <td>1</td>\n",
       "      <td>2017-11-08</td>\n",
       "      <td>11</td>\n",
       "      <td>8</td>\n",
       "      <td>2017</td>\n",
       "      <td>02:22:13</td>\n",
       "      <td>2</td>\n",
       "      <td>22</td>\n",
       "      <td>13</td>\n",
       "      <td>25.0</td>\n",
       "    </tr>\n",
       "    <tr>\n",
       "      <th>481</th>\n",
       "      <td>272894</td>\n",
       "      <td>10</td>\n",
       "      <td>1</td>\n",
       "      <td>7</td>\n",
       "      <td>113</td>\n",
       "      <td>2017-11-08 06:10:05</td>\n",
       "      <td>2017-11-08 06:10:37</td>\n",
       "      <td>1</td>\n",
       "      <td>2017-11-08</td>\n",
       "      <td>11</td>\n",
       "      <td>8</td>\n",
       "      <td>2017</td>\n",
       "      <td>06:10:05</td>\n",
       "      <td>6</td>\n",
       "      <td>10</td>\n",
       "      <td>5</td>\n",
       "      <td>32.0</td>\n",
       "    </tr>\n",
       "    <tr>\n",
       "      <th>1208</th>\n",
       "      <td>79001</td>\n",
       "      <td>19</td>\n",
       "      <td>0</td>\n",
       "      <td>0</td>\n",
       "      <td>213</td>\n",
       "      <td>2017-11-07 09:54:22</td>\n",
       "      <td>2017-11-07 11:59:05</td>\n",
       "      <td>1</td>\n",
       "      <td>2017-11-07</td>\n",
       "      <td>11</td>\n",
       "      <td>7</td>\n",
       "      <td>2017</td>\n",
       "      <td>09:54:22</td>\n",
       "      <td>9</td>\n",
       "      <td>54</td>\n",
       "      <td>22</td>\n",
       "      <td>7483.0</td>\n",
       "    </tr>\n",
       "    <tr>\n",
       "      <th>1341</th>\n",
       "      <td>131029</td>\n",
       "      <td>19</td>\n",
       "      <td>0</td>\n",
       "      <td>0</td>\n",
       "      <td>343</td>\n",
       "      <td>2017-11-09 10:58:46</td>\n",
       "      <td>2017-11-09 11:52:01</td>\n",
       "      <td>1</td>\n",
       "      <td>2017-11-09</td>\n",
       "      <td>11</td>\n",
       "      <td>9</td>\n",
       "      <td>2017</td>\n",
       "      <td>10:58:46</td>\n",
       "      <td>10</td>\n",
       "      <td>58</td>\n",
       "      <td>46</td>\n",
       "      <td>3195.0</td>\n",
       "    </tr>\n",
       "    <tr>\n",
       "      <th>1412</th>\n",
       "      <td>40352</td>\n",
       "      <td>19</td>\n",
       "      <td>0</td>\n",
       "      <td>0</td>\n",
       "      <td>213</td>\n",
       "      <td>2017-11-07 22:19:03</td>\n",
       "      <td>2017-11-08 01:55:02</td>\n",
       "      <td>1</td>\n",
       "      <td>2017-11-07</td>\n",
       "      <td>11</td>\n",
       "      <td>7</td>\n",
       "      <td>2017</td>\n",
       "      <td>22:19:03</td>\n",
       "      <td>22</td>\n",
       "      <td>19</td>\n",
       "      <td>3</td>\n",
       "      <td>12959.0</td>\n",
       "    </tr>\n",
       "  </tbody>\n",
       "</table>\n",
       "</div>"
      ],
      "text/plain": [
       "          ip  app  device  os  channel          click_time  \\\n",
       "284   224120   19       0  29      213 2017-11-08 02:22:13   \n",
       "481   272894   10       1   7      113 2017-11-08 06:10:05   \n",
       "1208   79001   19       0   0      213 2017-11-07 09:54:22   \n",
       "1341  131029   19       0   0      343 2017-11-09 10:58:46   \n",
       "1412   40352   19       0   0      213 2017-11-07 22:19:03   \n",
       "\n",
       "         attributed_time  is_attributed        date  month  day  year  \\\n",
       "284  2017-11-08 02:22:38              1  2017-11-08     11    8  2017   \n",
       "481  2017-11-08 06:10:37              1  2017-11-08     11    8  2017   \n",
       "1208 2017-11-07 11:59:05              1  2017-11-07     11    7  2017   \n",
       "1341 2017-11-09 11:52:01              1  2017-11-09     11    9  2017   \n",
       "1412 2017-11-08 01:55:02              1  2017-11-07     11    7  2017   \n",
       "\n",
       "          time  hour  minute  second  time_diff  \n",
       "284   02:22:13     2      22      13       25.0  \n",
       "481   06:10:05     6      10       5       32.0  \n",
       "1208  09:54:22     9      54      22     7483.0  \n",
       "1341  10:58:46    10      58      46     3195.0  \n",
       "1412  22:19:03    22      19       3    12959.0  "
      ]
     },
     "execution_count": 7,
     "metadata": {},
     "output_type": "execute_result"
    }
   ],
   "source": [
    "train_sample_target.head()"
   ]
  },
  {
   "cell_type": "code",
   "execution_count": 60,
   "metadata": {},
   "outputs": [
    {
     "data": {
      "image/png": "[encoded data removed]",
      "text/plain": [
       "<matplotlib.figure.Figure at 0xec6d278>"
      ]
     },
     "metadata": {},
     "output_type": "display_data"
    }
   ],
   "source": [
    "y = train_sample.groupby('ip').count()['os'].sort_values(ascending = False)[:15].values\n",
    "x = train_sample.groupby('ip').count()['os'].sort_values(ascending = False)[:15].index\n",
    "pd.DataFrame(y,x).plot.bar()\n",
    "plt.show()"
   ]
  },
  {
   "cell_type": "code",
   "execution_count": 65,
   "metadata": {},
   "outputs": [
    {
     "data": {
      "image/png": "[encoded data removed]",
      "text/plain": [
       "<matplotlib.figure.Figure at 0xe015c18>"
      ]
     },
     "metadata": {},
     "output_type": "display_data"
    }
   ],
   "source": [
    "y = train_sample_target.groupby('ip').count()['os'].sort_values(ascending = False)[:15].values\n",
    "x = train_sample_target.groupby('ip').count()['os'].sort_values(ascending = False)[:15].index\n",
    "pd.DataFrame(y,x).plot.bar()\n",
    "plt.show()"
   ]
  },
  {
   "cell_type": "code",
   "execution_count": 62,
   "metadata": {},
   "outputs": [
    {
     "data": {
      "image/png": "[encoded data removed]",
      "text/plain": [
       "<matplotlib.figure.Figure at 0xee49358>"
      ]
     },
     "metadata": {},
     "output_type": "display_data"
    }
   ],
   "source": [
    "plt.hist(train_sample_target.time_diff)\n",
    "plt.title(\"Time Between Click and Download Distribution\")\n",
    "plt.show()"
   ]
  },
  {
   "cell_type": "code",
   "execution_count": 153,
   "metadata": {},
   "outputs": [
    {
     "data": {
      "text/plain": [
       "app\n",
       "3     18279\n",
       "12    13198\n",
       "2     11737\n",
       "9      8992\n",
       "15     8595\n",
       "18     8315\n",
       "14     5359\n",
       "1      3135\n",
       "13     2422\n",
       "8      2004\n",
       "Name: ip, dtype: int64"
      ]
     },
     "metadata": {},
     "output_type": "display_data"
    },
    {
     "data": {
      "text/plain": [
       "device\n",
       "1       94338\n",
       "2        4345\n",
       "0         541\n",
       "3032      371\n",
       "3543      151\n",
       "3866       93\n",
       "59         12\n",
       "6           8\n",
       "5           7\n",
       "40          7\n",
       "Name: ip, dtype: int64"
      ]
     },
     "metadata": {},
     "output_type": "display_data"
    },
    {
     "data": {
      "text/plain": [
       "os\n",
       "19    23870\n",
       "13    21223\n",
       "17     5232\n",
       "18     4830\n",
       "22     4039\n",
       "10     2816\n",
       "8      2775\n",
       "6      2520\n",
       "15     2396\n",
       "20     2347\n",
       "Name: ip, dtype: int64"
      ]
     },
     "metadata": {},
     "output_type": "display_data"
    },
    {
     "data": {
      "text/plain": [
       "channel\n",
       "280    8114\n",
       "245    4802\n",
       "107    4543\n",
       "477    3960\n",
       "134    3224\n",
       "259    3130\n",
       "265    3013\n",
       "153    2954\n",
       "178    2936\n",
       "121    2472\n",
       "Name: ip, dtype: int64"
      ]
     },
     "metadata": {},
     "output_type": "display_data"
    }
   ],
   "source": [
    "for i in [\"app\",\"device\",\"os\",\"channel\"]:\n",
    "    display(train_sample.groupby(i).count()['ip'].sort_values(ascending = False)[:10])\n"
   ]
  },
  {
   "cell_type": "code",
   "execution_count": 147,
   "metadata": {},
   "outputs": [
    {
     "data": {
      "text/plain": [
       "app\n",
       "19    70\n",
       "35    27\n",
       "29    22\n",
       "10    18\n",
       "5     14\n",
       "45    11\n",
       "9      8\n",
       "72     6\n",
       "18     5\n",
       "3      4\n",
       "Name: time_diff, dtype: int64"
      ]
     },
     "metadata": {},
     "output_type": "display_data"
    },
    {
     "data": {
      "text/plain": [
       "device\n",
       "1     146\n",
       "0      52\n",
       "16      3\n",
       "97      3\n",
       "2       2\n",
       "21      2\n",
       "50      1\n",
       "4       1\n",
       "6       1\n",
       "30      1\n",
       "Name: time_diff, dtype: int64"
      ]
     },
     "metadata": {},
     "output_type": "display_data"
    },
    {
     "data": {
      "text/plain": [
       "os\n",
       "19    41\n",
       "0     26\n",
       "24    26\n",
       "13    25\n",
       "29    11\n",
       "21     8\n",
       "17     6\n",
       "27     6\n",
       "22     6\n",
       "7      5\n",
       "Name: time_diff, dtype: int64"
      ]
     },
     "metadata": {},
     "output_type": "display_data"
    },
    {
     "data": {
      "text/plain": [
       "channel\n",
       "213    72\n",
       "113    31\n",
       "21     19\n",
       "101    13\n",
       "274    12\n",
       "347    11\n",
       "5       5\n",
       "171     5\n",
       "282     5\n",
       "243     5\n",
       "Name: time_diff, dtype: int64"
      ]
     },
     "metadata": {},
     "output_type": "display_data"
    }
   ],
   "source": [
    "for i in [\"app\",\"device\",\"os\",\"channel\"]:\n",
    "    display(train_sample_target.groupby(i).count()[\"time_diff\"].sort_values(ascending = False)[:10])"
   ]
  },
  {
   "cell_type": "code",
   "execution_count": 143,
   "metadata": {
    "collapsed": true
   },
   "outputs": [],
   "source": [
    "top_timediff_device = train_sample_target.groupby(\"device\").mean()[\"time_diff\"].sort_values(ascending = False)[:10]"
   ]
  }
 ],
 "metadata": {
  "kernelspec": {
   "display_name": "Python 3",
   "language": "python",
   "name": "python3"
  },
  "language_info": {
   "codemirror_mode": {
    "name": "ipython",
    "version": 3
   },
   "file_extension": ".py",
   "mimetype": "text/x-python",
   "name": "python",
   "nbconvert_exporter": "python",
   "pygments_lexer": "ipython3",
   "version": "3.6.2"
  }
 },
 "nbformat": 4,
 "nbformat_minor": 2
}
